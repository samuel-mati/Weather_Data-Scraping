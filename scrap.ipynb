{
 "cells": [
  {
   "cell_type": "code",
   "execution_count": 39,
   "metadata": {},
   "outputs": [],
   "source": [
    "import requests \n",
    "from bs4 import BeautifulSoup\n",
    "import time"
   ]
  },
  {
   "cell_type": "code",
   "execution_count": 69,
   "metadata": {},
   "outputs": [],
   "source": [
    "\n",
    "base_url=\"https://meteo.go.ke/media-center/blog?title=&page={}\"\n",
    "\n",
    "num_pages=2\n",
    "\n",
    "\n",
    "all_links = []\n",
    "# Fetch links from multiple pages\n",
    "for page_number in range(num_pages):\n",
    "    response = requests.get(base_url.format(page_number))\n",
    "    page = BeautifulSoup(response.content, 'html.parser')\n",
    "    \n",
    "    divs = page.find_all('div', class_='views-row')\n",
    "    \n",
    "    for div in divs:\n",
    "        forecast = div.a['href']\n",
    "        all_links.append(\"https://meteo.go.ke\" + forecast)\n"
   ]
  },
  {
   "cell_type": "code",
   "execution_count": 70,
   "metadata": {},
   "outputs": [],
   "source": [
    "\n",
    "def get_data(url):\n",
    "    response = requests.get(url)\n",
    "    page = BeautifulSoup(response.content, 'html.parser')   \n",
    "\n",
    "    town_data = {}\n",
    "    \n",
    "    town_data['town'] = page.find('div', class_='field--name-field-town').find('div', class_='field__item').text.strip()\n",
    "    town_data['date']= page.find('div', class_='field--name-field-date').find('div', class_='field__item').text.strip()\n",
    "    town_data['max_temp'] = page.find('div', class_='field--name-field-max-temperature').find('div', class_='field__item').text.strip()\n",
    "    town_data['min_temp'] = page.find('div', class_='field--name-field-min-temperature').find('div', class_='field__item').text.strip()\n",
    "    town_data['morning'] = page.find('div', class_='field--name-field-morning').find('div', class_='field__item').text.strip()\n",
    "    town_data['afternoon'] = page.find('div', class_='field--name-field-afternoon').find('div', class_='field__item').text.strip()\n",
    "    town_data['night'] = page.find('div', class_='field--name-field-night-alt-description').find('div', class_='field__item').text.strip()\n",
    "    \n",
    "    return town_data\n"
   ]
  },
  {
   "cell_type": "markdown",
   "metadata": {},
   "source": []
  },
  {
   "cell_type": "code",
   "execution_count": 71,
   "metadata": {},
   "outputs": [],
   "source": [
    "weather_data = []\n",
    "\n",
    "for link in all_links:\n",
    "    town_weather = get_data(link)\n",
    "    weather_data.append(town_weather)\n"
   ]
  },
  {
   "cell_type": "code",
   "execution_count": 72,
   "metadata": {},
   "outputs": [],
   "source": [
    "import csv\n",
    "\n",
    "keys = weather_data[0].keys()\n",
    "with open('weather_data.csv', 'w', newline='') as output_file:\n",
    "    dict_writer = csv.DictWriter(output_file, fieldnames=keys)\n",
    "    dict_writer.writeheader()\n",
    "    dict_writer.writerows(weather_data)\n"
   ]
  }
 ],
 "metadata": {
  "kernelspec": {
   "display_name": "Python 3",
   "language": "python",
   "name": "python3"
  },
  "language_info": {
   "codemirror_mode": {
    "name": "ipython",
    "version": 3
   },
   "file_extension": ".py",
   "mimetype": "text/x-python",
   "name": "python",
   "nbconvert_exporter": "python",
   "pygments_lexer": "ipython3",
   "version": "3.12.2"
  }
 },
 "nbformat": 4,
 "nbformat_minor": 2
}
